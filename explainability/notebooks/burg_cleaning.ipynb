{
 "cells": [
  {
   "cell_type": "code",
   "execution_count": 1,
   "id": "055d8074",
   "metadata": {},
   "outputs": [],
   "source": [
    "import pandas as pd, geopandas as gpd\n",
    "import matplotlib.pyplot as pyplot, seaborn as sns\n",
    "import numpy as np\n",
    "from pathlib import Path"
   ]
  },
  {
   "cell_type": "code",
   "execution_count": null,
   "id": "83a1b039",
   "metadata": {},
   "outputs": [],
   "source": [
    "project_root = Path().resolve().parent\n",
    "burg_file = project_root / 'data' / 'burglary' / 'burglary_2021_2025.csv'\n",
    "pp_file = project_root / 'data' / 'externals' / 'clean_pp.parquet'"
   ]
  },
  {
   "cell_type": "code",
   "execution_count": 5,
   "id": "72f3c707",
   "metadata": {},
   "outputs": [
    {
     "name": "stdout",
     "output_type": "stream",
     "text": [
      "<class 'pandas.core.frame.DataFrame'>\n",
      "RangeIndex: 223514 entries, 0 to 223513\n",
      "Data columns (total 10 columns):\n",
      " #   Column                 Non-Null Count   Dtype  \n",
      "---  ------                 --------------   -----  \n",
      " 0   Crime ID               223514 non-null  object \n",
      " 1   Month                  223514 non-null  object \n",
      " 2   Reported by            223514 non-null  object \n",
      " 3   Longitude              219154 non-null  float64\n",
      " 4   Latitude               219154 non-null  float64\n",
      " 5   Location               223514 non-null  object \n",
      " 6   LSOA code              219154 non-null  object \n",
      " 7   LSOA name              219154 non-null  object \n",
      " 8   Crime type             223514 non-null  object \n",
      " 9   Last outcome category  223514 non-null  object \n",
      "dtypes: float64(2), object(8)\n",
      "memory usage: 17.1+ MB\n"
     ]
    }
   ],
   "source": [
    "raw = pd.read_csv(burg_file)\n",
    "raw.info()"
   ]
  },
  {
   "cell_type": "code",
   "execution_count": 6,
   "id": "807a98cf",
   "metadata": {},
   "outputs": [
    {
     "name": "stdout",
     "output_type": "stream",
     "text": [
      "['Crime ID', 'Month', 'Reported by', 'Longitude', 'Latitude', 'Location', 'LSOA code', 'LSOA name', 'Crime type', 'Last outcome category']\n"
     ]
    }
   ],
   "source": [
    "print(raw.columns.tolist())"
   ]
  },
  {
   "cell_type": "code",
   "execution_count": 7,
   "id": "02c305e2",
   "metadata": {},
   "outputs": [
    {
     "name": "stdout",
     "output_type": "stream",
     "text": [
      "len(raw.columns)=10\n"
     ]
    }
   ],
   "source": [
    "print(f\"{len(raw.columns)=}\")"
   ]
  },
  {
   "cell_type": "code",
   "execution_count": 8,
   "id": "01e8a9a4",
   "metadata": {},
   "outputs": [
    {
     "data": {
      "text/html": [
       "<div>\n",
       "<style scoped>\n",
       "    .dataframe tbody tr th:only-of-type {\n",
       "        vertical-align: middle;\n",
       "    }\n",
       "\n",
       "    .dataframe tbody tr th {\n",
       "        vertical-align: top;\n",
       "    }\n",
       "\n",
       "    .dataframe thead th {\n",
       "        text-align: right;\n",
       "    }\n",
       "</style>\n",
       "<table border=\"1\" class=\"dataframe\">\n",
       "  <thead>\n",
       "    <tr style=\"text-align: right;\">\n",
       "      <th></th>\n",
       "      <th>Crime ID</th>\n",
       "      <th>Month</th>\n",
       "      <th>Reported by</th>\n",
       "      <th>Longitude</th>\n",
       "      <th>Latitude</th>\n",
       "      <th>Location</th>\n",
       "      <th>LSOA code</th>\n",
       "      <th>LSOA name</th>\n",
       "      <th>Crime type</th>\n",
       "      <th>Last outcome category</th>\n",
       "    </tr>\n",
       "  </thead>\n",
       "  <tbody>\n",
       "    <tr>\n",
       "      <th>134897</th>\n",
       "      <td>c86bda9faec135c45f4cc85338c09335f1d245c984eed4...</td>\n",
       "      <td>2023-07</td>\n",
       "      <td>Metropolitan Police Service</td>\n",
       "      <td>-0.240749</td>\n",
       "      <td>51.560341</td>\n",
       "      <td>On or near Orchard Close</td>\n",
       "      <td>E01000502</td>\n",
       "      <td>Brent 011D</td>\n",
       "      <td>Burglary</td>\n",
       "      <td>Investigation complete; no suspect identified</td>\n",
       "    </tr>\n",
       "    <tr>\n",
       "      <th>111146</th>\n",
       "      <td>02c19e1f8ac705656a5b29a57d3a93d6897710032711f6...</td>\n",
       "      <td>2023-01</td>\n",
       "      <td>Metropolitan Police Service</td>\n",
       "      <td>-0.030599</td>\n",
       "      <td>51.598898</td>\n",
       "      <td>On or near Shaw Square</td>\n",
       "      <td>E01004403</td>\n",
       "      <td>Waltham Forest 009E</td>\n",
       "      <td>Burglary</td>\n",
       "      <td>Investigation complete; no suspect identified</td>\n",
       "    </tr>\n",
       "    <tr>\n",
       "      <th>71245</th>\n",
       "      <td>4e13de156d0c23e7c142ccd9d3f5fae01b5ee6e61e879d...</td>\n",
       "      <td>2022-05</td>\n",
       "      <td>Metropolitan Police Service</td>\n",
       "      <td>-0.150580</td>\n",
       "      <td>51.603737</td>\n",
       "      <td>On or near George Crescent</td>\n",
       "      <td>E01000164</td>\n",
       "      <td>Barnet 022D</td>\n",
       "      <td>Burglary</td>\n",
       "      <td>Investigation complete; no suspect identified</td>\n",
       "    </tr>\n",
       "    <tr>\n",
       "      <th>123214</th>\n",
       "      <td>d25b88b0f10cd8c0fb532927dff30c0a64cdef0ef5232e...</td>\n",
       "      <td>2023-04</td>\n",
       "      <td>Metropolitan Police Service</td>\n",
       "      <td>-0.394881</td>\n",
       "      <td>51.519002</td>\n",
       "      <td>On or near Blandford Waye</td>\n",
       "      <td>E01002546</td>\n",
       "      <td>Hillingdon 023D</td>\n",
       "      <td>Burglary</td>\n",
       "      <td>Investigation complete; no suspect identified</td>\n",
       "    </tr>\n",
       "    <tr>\n",
       "      <th>216504</th>\n",
       "      <td>0408b534f54ed318c5bb83b26d8f4a347c5e1925ecacdc...</td>\n",
       "      <td>2025-01</td>\n",
       "      <td>Metropolitan Police Service</td>\n",
       "      <td>-0.357286</td>\n",
       "      <td>51.519947</td>\n",
       "      <td>On or near The Grove</td>\n",
       "      <td>E01001218</td>\n",
       "      <td>Ealing 012A</td>\n",
       "      <td>Burglary</td>\n",
       "      <td>Investigation complete; no suspect identified</td>\n",
       "    </tr>\n",
       "  </tbody>\n",
       "</table>\n",
       "</div>"
      ],
      "text/plain": [
       "                                                 Crime ID    Month  \\\n",
       "134897  c86bda9faec135c45f4cc85338c09335f1d245c984eed4...  2023-07   \n",
       "111146  02c19e1f8ac705656a5b29a57d3a93d6897710032711f6...  2023-01   \n",
       "71245   4e13de156d0c23e7c142ccd9d3f5fae01b5ee6e61e879d...  2022-05   \n",
       "123214  d25b88b0f10cd8c0fb532927dff30c0a64cdef0ef5232e...  2023-04   \n",
       "216504  0408b534f54ed318c5bb83b26d8f4a347c5e1925ecacdc...  2025-01   \n",
       "\n",
       "                        Reported by  Longitude   Latitude  \\\n",
       "134897  Metropolitan Police Service  -0.240749  51.560341   \n",
       "111146  Metropolitan Police Service  -0.030599  51.598898   \n",
       "71245   Metropolitan Police Service  -0.150580  51.603737   \n",
       "123214  Metropolitan Police Service  -0.394881  51.519002   \n",
       "216504  Metropolitan Police Service  -0.357286  51.519947   \n",
       "\n",
       "                          Location  LSOA code            LSOA name Crime type  \\\n",
       "134897    On or near Orchard Close  E01000502           Brent 011D   Burglary   \n",
       "111146      On or near Shaw Square  E01004403  Waltham Forest 009E   Burglary   \n",
       "71245   On or near George Crescent  E01000164          Barnet 022D   Burglary   \n",
       "123214   On or near Blandford Waye  E01002546      Hillingdon 023D   Burglary   \n",
       "216504        On or near The Grove  E01001218          Ealing 012A   Burglary   \n",
       "\n",
       "                                Last outcome category  \n",
       "134897  Investigation complete; no suspect identified  \n",
       "111146  Investigation complete; no suspect identified  \n",
       "71245   Investigation complete; no suspect identified  \n",
       "123214  Investigation complete; no suspect identified  \n",
       "216504  Investigation complete; no suspect identified  "
      ]
     },
     "execution_count": 8,
     "metadata": {},
     "output_type": "execute_result"
    }
   ],
   "source": [
    "raw.sample(5)"
   ]
  },
  {
   "cell_type": "code",
   "execution_count": null,
   "id": "b91c9e03",
   "metadata": {},
   "outputs": [],
   "source": [
    "match_mask = raw['Reported by'] == raw['Falls within']\n",
    "total = len(raw)\n",
    "n_match = match_mask.sum()\n",
    "n_diff  = total - n_match\n",
    "\n",
    "print(f\"✅ Matching rows: {n_match} / {total} ({n_match/total*100:.2f}%)\")\n",
    "print(f\"⚠️ Differing rows: {n_diff} / {total} ({n_diff/total*100:.2f}%)\")"
   ]
  },
  {
   "cell_type": "code",
   "execution_count": null,
   "id": "12410756",
   "metadata": {},
   "outputs": [],
   "source": [
    "n_null = raw['Context'].isna().sum()\n",
    "n_present = raw['Context'].notna().sum()\n",
    "\n",
    "print(f\"🛑 Null in Context: {n_null}\")\n",
    "print(f\"✅ Non-null in Context: {n_present}\")"
   ]
  },
  {
   "cell_type": "code",
   "execution_count": null,
   "id": "4857fe07",
   "metadata": {},
   "outputs": [],
   "source": [
    "cleaned = raw.drop(columns=['Falls within', 'Context'])\n",
    "print(\"Columns now:\", cleaned.columns.tolist())"
   ]
  },
  {
   "cell_type": "code",
   "execution_count": 9,
   "id": "94d3a67a",
   "metadata": {},
   "outputs": [
    {
     "name": "stdout",
     "output_type": "stream",
     "text": [
      "Total rows: 223514\n",
      "Missing Crime IDs: 0\n",
      "Unique Crime IDs: 222006 (99.33% of rows)\n",
      "Duplicate Crime IDs: 3016 (1.35% of rows)\n"
     ]
    }
   ],
   "source": [
    "total = len(raw)\n",
    "n_missing = raw['Crime ID'].isna().sum()\n",
    "n_unique = raw['Crime ID'].nunique(dropna = True)\n",
    "n_dupes = total - n_missing - (raw['Crime ID'].value_counts() == 1).sum()\n",
    "\n",
    "print(f\"Total rows: {total}\")\n",
    "print(f\"Missing Crime IDs: {n_missing}\")\n",
    "print(f\"Unique Crime IDs: {n_unique} ({n_unique/total*100:.2f}% of rows)\")\n",
    "print(f\"Duplicate Crime IDs: {n_dupes} ({n_dupes/total*100:.2f}% of rows)\")"
   ]
  },
  {
   "cell_type": "code",
   "execution_count": 10,
   "id": "3a0b2ef5",
   "metadata": {},
   "outputs": [
    {
     "name": "stdout",
     "output_type": "stream",
     "text": [
      "Total duplicate‐ID rows: 3016\n",
      "Distinct Crime IDs that repeat: 1508\n"
     ]
    }
   ],
   "source": [
    "dupe_mask = raw['Crime ID'].duplicated(keep = False)\n",
    "dupes = raw.loc[dupe_mask].sort_values('Crime ID')\n",
    "print(f\"Total duplicate‐ID rows: {len(dupes)}\")\n",
    "print(f\"Distinct Crime IDs that repeat: {dupes['Crime ID'].nunique()}\")"
   ]
  },
  {
   "cell_type": "code",
   "execution_count": 11,
   "id": "a67438a3",
   "metadata": {},
   "outputs": [
    {
     "name": "stdout",
     "output_type": "stream",
     "text": [
      "IDs with >1 unique value per field: {'Month': 0, 'Last outcome category': 1508, 'LSOA code': 29, 'Longitude': 0, 'Latitude': 0}\n"
     ]
    }
   ],
   "source": [
    "# pick the cols you care about\n",
    "check_cols = ['Month','Last outcome category','LSOA code','Longitude','Latitude']\n",
    "dupes = raw.loc[dupe_mask]\n",
    "\n",
    "# count how many IDs actually differ on each field\n",
    "summary = {\n",
    "  c: dupes.groupby('Crime ID')[c].nunique().gt(1).sum()\n",
    "  for c in check_cols\n",
    "}\n",
    "print(\"IDs with >1 unique value per field:\", summary)"
   ]
  },
  {
   "cell_type": "code",
   "execution_count": 12,
   "id": "cb371b30",
   "metadata": {},
   "outputs": [],
   "source": [
    "raw_sorted = raw.sort_values(\n",
    "    ['Crime ID', 'Month', 'Last outcome category'],\n",
    "    ascending=[True, True, True]\n",
    ")"
   ]
  },
  {
   "cell_type": "code",
   "execution_count": 13,
   "id": "38a55bdb",
   "metadata": {},
   "outputs": [
    {
     "name": "stdout",
     "output_type": "stream",
     "text": [
      "🔍 IDs with >1 outcome: 1508\n",
      "🔍 IDs with >1 LSOA code: 29\n",
      "\n"
     ]
    }
   ],
   "source": [
    "# 1. Re-compute the mask of any ID with >1 row\n",
    "dupe_mask = raw['Crime ID'].duplicated(keep=False)\n",
    "dupes = raw.loc[dupe_mask].sort_values('Crime ID')\n",
    "\n",
    "# 2. Find the subset of IDs where the outcome really changed\n",
    "outcome_changed = (\n",
    "    dupes\n",
    "    .groupby('Crime ID')['Last outcome category']\n",
    "    .nunique()\n",
    "    .gt(1)\n",
    ")\n",
    "changed_ids = outcome_changed[outcome_changed].index.tolist()\n",
    "\n",
    "# 3. Likewise for the handful of LSOA-code changes\n",
    "lsoa_changed = (\n",
    "    dupes\n",
    "    .groupby('Crime ID')['LSOA code']\n",
    "    .nunique()\n",
    "    .gt(1)\n",
    ")\n",
    "changed_lsoas = lsoa_changed[lsoa_changed].index.tolist()\n",
    "\n",
    "print(f\"🔍 IDs with >1 outcome: {len(changed_ids)}\")\n",
    "print(f\"🔍 IDs with >1 LSOA code: {len(changed_lsoas)}\\n\")"
   ]
  },
  {
   "cell_type": "code",
   "execution_count": 14,
   "id": "75b8ce71",
   "metadata": {},
   "outputs": [
    {
     "name": "stdout",
     "output_type": "stream",
     "text": [
      "IDs with geo‐shifts: 0\n"
     ]
    }
   ],
   "source": [
    "# Only consider IDs with at least two rows\n",
    "dupe_mask = raw['Crime ID'].duplicated(keep=False)\n",
    "dupes = raw.loc[dupe_mask, ['Crime ID','Longitude','Latitude']]\n",
    "\n",
    "# Count how many distinct (lon,lat) per ID\n",
    "loc_counts = (\n",
    "    dupes\n",
    "    .dropna(subset=['Longitude','Latitude'])\n",
    "    .drop_duplicates()\n",
    "    .groupby('Crime ID')\n",
    "    .size()\n",
    ")\n",
    "\n",
    "# Filter to those with more than one unique coordinate\n",
    "ids_with_loc_shifts = loc_counts[loc_counts > 1].index\n",
    "print(f\"IDs with geo‐shifts: {len(ids_with_loc_shifts)}\")\n"
   ]
  },
  {
   "cell_type": "code",
   "execution_count": 15,
   "id": "bcaff2a5",
   "metadata": {},
   "outputs": [
    {
     "name": "stderr",
     "output_type": "stream",
     "text": [
      "Calculating shifts: 100%|██████████| 222006/222006 [03:27<00:00, 1068.85it/s]"
     ]
    },
    {
     "name": "stdout",
     "output_type": "stream",
     "text": [
      "Top 5 biggest geocoding shifts (meters):\n",
      "Empty DataFrame\n",
      "Columns: [Crime ID, max_shift_m]\n",
      "Index: []\n"
     ]
    },
    {
     "name": "stderr",
     "output_type": "stream",
     "text": [
      "\n"
     ]
    }
   ],
   "source": [
    "from geopy.distance import geodesic\n",
    "from tqdm import tqdm\n",
    "\n",
    "# 1️⃣ Helper as before\n",
    "def max_shift(group):\n",
    "    coords = list(zip(group['Latitude'], group['Longitude']))\n",
    "    max_d = 0\n",
    "    for i in range(len(coords)):\n",
    "        for j in range(i+1, len(coords)):\n",
    "            d = geodesic(coords[i], coords[j]).meters\n",
    "            if d > max_d:\n",
    "                max_d = d\n",
    "    return max_d\n",
    "\n",
    "# 2️⃣ Compute shifts into a list of tuples\n",
    "rows = []\n",
    "grouped = raw.groupby('Crime ID')\n",
    "for cid, grp in tqdm(grouped, total=grouped.ngroups, desc=\"Calculating shifts\"):\n",
    "    if len(grp[['Latitude','Longitude']].drop_duplicates()) > 1:\n",
    "        rows.append((cid, max_shift(grp)))\n",
    "\n",
    "# 3️⃣ Build the DataFrame\n",
    "shifts_df = pd.DataFrame(rows, columns=['Crime ID','max_shift_m'])\n",
    "\n",
    "# 4️⃣ Sort descending\n",
    "shifts_df = shifts_df.sort_values('max_shift_m', ascending=False)\n",
    "\n",
    "print(\"Top 5 biggest geocoding shifts (meters):\")\n",
    "print(shifts_df.head())"
   ]
  },
  {
   "cell_type": "code",
   "execution_count": 16,
   "id": "a8e82caa",
   "metadata": {},
   "outputs": [],
   "source": [
    "raw = raw.sort_values(\n",
    "    [\"Crime ID\", \"Month\", \"Last outcome category\"]\n",
    ")\n",
    "clean = raw.drop_duplicates(\"Crime ID\", keep = \"last\")"
   ]
  },
  {
   "cell_type": "code",
   "execution_count": 17,
   "id": "23e43725",
   "metadata": {},
   "outputs": [],
   "source": [
    "bad_lsoas = set(changed_lsoas)\n",
    "clean = clean[~clean['LSOA code'].isin(bad_lsoas)]"
   ]
  },
  {
   "cell_type": "code",
   "execution_count": 18,
   "id": "18843a1a",
   "metadata": {},
   "outputs": [],
   "source": [
    "assert clean['Crime ID'].is_unique"
   ]
  },
  {
   "cell_type": "code",
   "execution_count": 20,
   "id": "4163c2e2",
   "metadata": {},
   "outputs": [
    {
     "name": "stdout",
     "output_type": "stream",
     "text": [
      "222006\n"
     ]
    }
   ],
   "source": [
    "total = len(clean)\n",
    "print(total)"
   ]
  },
  {
   "cell_type": "code",
   "execution_count": 21,
   "id": "cfc2be80",
   "metadata": {},
   "outputs": [
    {
     "name": "stdout",
     "output_type": "stream",
     "text": [
      "Wrote 222006 rows to /Users/youjungum/dc2/data/burglary/burglary_2021_2025.clean.csv\n"
     ]
    }
   ],
   "source": [
    "clean.to_csv(burg_file.with_suffix('.clean.csv'), index = False)\n",
    "print(f\"Wrote {len(clean)} rows to {burg_file.with_suffix('.clean.csv')}\")"
   ]
  }
 ],
 "metadata": {
  "kernelspec": {
   "display_name": "py311",
   "language": "python",
   "name": "python3"
  },
  "language_info": {
   "codemirror_mode": {
    "name": "ipython",
    "version": 3
   },
   "file_extension": ".py",
   "mimetype": "text/x-python",
   "name": "python",
   "nbconvert_exporter": "python",
   "pygments_lexer": "ipython3",
   "version": "3.11.11"
  }
 },
 "nbformat": 4,
 "nbformat_minor": 5
}
