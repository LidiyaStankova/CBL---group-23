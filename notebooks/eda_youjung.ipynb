{
 "cells": [
  {
   "cell_type": "markdown",
   "id": "fa7ca2b4",
   "metadata": {},
   "source": [
    "It needs to be re-written before SSA as the entire notebook is completed through copilot and ChatGpt o4-mini."
   ]
  },
  {
   "cell_type": "code",
   "execution_count": 5,
   "id": "05d61724",
   "metadata": {},
   "outputs": [],
   "source": [
    "import os\n",
    "import pandas as pd\n",
    "import numpy as np\n",
    "import matplotlib.pyplot as plt\n",
    "import seaborn as sns\n",
    "from pathlib import Path"
   ]
  },
  {
   "cell_type": "code",
   "execution_count": null,
   "id": "b8ce0224",
   "metadata": {},
   "outputs": [],
   "source": [
    "# a mapping object\n",
    "# returns a dict with user's environmental vars as key and values\n",
    "\n",
    "os.environ[\"openblas_num\"] = \"1\" # stop basic lin algebra subprograms from over-parallelising\n",
    "os.environ[\"omp_num_threads\"] = \"1\" # again single-threaded open multi-processing\n",
    "\n",
    "base_dir = Path().resolve().parent\n",
    "dat_dir = base_dir / \"data\"\n",
    "burg_dir = dat_dir / \"repo-dat\"\n",
    "pp_dir = dat_dir / \"lr-pp\" # https://www.gov.uk/government/collections/price-paid-data\n",
    "\n",
    "def read_csv_chunkwise(files, **kwargs):\n",
    "    dfs = []\n",
    "    for f in files:\n",
    "        dfs.append(pd.read_csv(f, **kwargs))\n",
    "    return pd.concat(dfs, ignore_index=True)"
   ]
  },
  {
   "cell_type": "code",
   "execution_count": 15,
   "id": "94cac094",
   "metadata": {},
   "outputs": [
    {
     "name": "stdout",
     "output_type": "stream",
     "text": [
      "Street files: [PosixPath('/Users/youjungum/dc2/data/repo-dat/2021-06-metropolitan-street.csv'), PosixPath('/Users/youjungum/dc2/data/repo-dat/2016-04-metropolitan-street.csv'), PosixPath('/Users/youjungum/dc2/data/repo-dat/2023-04-metropolitan-street.csv'), PosixPath('/Users/youjungum/dc2/data/repo-dat/2018-06-metropolitan-street.csv'), PosixPath('/Users/youjungum/dc2/data/repo-dat/2014-06-metropolitan-street.csv'), PosixPath('/Users/youjungum/dc2/data/repo-dat/2012-01-metropolitan-street.csv'), PosixPath('/Users/youjungum/dc2/data/repo-dat/2014-09-metropolitan-street.csv'), PosixPath('/Users/youjungum/dc2/data/repo-dat/2018-09-metropolitan-street.csv'), PosixPath('/Users/youjungum/dc2/data/repo-dat/2013-11-metropolitan-street.csv'), PosixPath('/Users/youjungum/dc2/data/repo-dat/2021-09-metropolitan-street.csv'), PosixPath('/Users/youjungum/dc2/data/repo-dat/2013-02-metropolitan-street.csv'), PosixPath('/Users/youjungum/dc2/data/repo-dat/2015-05-metropolitan-street.csv'), PosixPath('/Users/youjungum/dc2/data/repo-dat/2019-05-metropolitan-street.csv'), PosixPath('/Users/youjungum/dc2/data/repo-dat/2022-07-metropolitan-street.csv'), PosixPath('/Users/youjungum/dc2/data/repo-dat/2017-07-metropolitan-street.csv'), PosixPath('/Users/youjungum/dc2/data/repo-dat/2020-05-metropolitan-street.csv'), PosixPath('/Users/youjungum/dc2/data/repo-dat/2012-12-metropolitan-street.csv'), PosixPath('/Users/youjungum/dc2/data/repo-dat/2017-08-metropolitan-street.csv'), PosixPath('/Users/youjungum/dc2/data/repo-dat/2022-08-metropolitan-street.csv'), PosixPath('/Users/youjungum/dc2/data/repo-dat/2020-12-metropolitan-street.csv'), PosixPath('/Users/youjungum/dc2/data/repo-dat/2017-10-metropolitan-street.csv'), PosixPath('/Users/youjungum/dc2/data/repo-dat/2019-12-metropolitan-street.csv'), PosixPath('/Users/youjungum/dc2/data/repo-dat/2022-10-metropolitan-street.csv'), PosixPath('/Users/youjungum/dc2/data/repo-dat/2015-12-metropolitan-street.csv'), PosixPath('/Users/youjungum/dc2/data/repo-dat/2021-02-metropolitan-street.csv'), PosixPath('/Users/youjungum/dc2/data/repo-dat/2012-05-metropolitan-street.csv'), PosixPath('/Users/youjungum/dc2/data/repo-dat/2014-02-metropolitan-street.csv'), PosixPath('/Users/youjungum/dc2/data/repo-dat/2018-02-metropolitan-street.csv'), PosixPath('/Users/youjungum/dc2/data/repo-dat/2014-11-metropolitan-street.csv'), PosixPath('/Users/youjungum/dc2/data/repo-dat/2018-11-metropolitan-street.csv'), PosixPath('/Users/youjungum/dc2/data/repo-dat/2013-09-metropolitan-street.csv'), PosixPath('/Users/youjungum/dc2/data/repo-dat/2021-11-metropolitan-street.csv'), PosixPath('/Users/youjungum/dc2/data/repo-dat/2022-03-metropolitan-street.csv'), PosixPath('/Users/youjungum/dc2/data/repo-dat/2024-04-metropolitan-street.csv'), PosixPath('/Users/youjungum/dc2/data/repo-dat/2019-01-metropolitan-street.csv'), PosixPath('/Users/youjungum/dc2/data/repo-dat/2015-01-metropolitan-street.csv'), PosixPath('/Users/youjungum/dc2/data/repo-dat/2013-06-metropolitan-street.csv'), PosixPath('/Users/youjungum/dc2/data/repo-dat/2020-01-metropolitan-street.csv'), PosixPath('/Users/youjungum/dc2/data/repo-dat/2011-04-metropolitan-street.csv'), PosixPath('/Users/youjungum/dc2/data/repo-dat/2017-03-metropolitan-street.csv'), PosixPath('/Users/youjungum/dc2/data/repo-dat/2018-12-metropolitan-street.csv'), PosixPath('/Users/youjungum/dc2/data/repo-dat/2023-10-metropolitan-street.csv'), PosixPath('/Users/youjungum/dc2/data/repo-dat/2011-08-metropolitan-street.csv'), PosixPath('/Users/youjungum/dc2/data/repo-dat/2014-12-metropolitan-street.csv'), PosixPath('/Users/youjungum/dc2/data/repo-dat/2021-12-metropolitan-street.csv'), PosixPath('/Users/youjungum/dc2/data/repo-dat/2024-08-metropolitan-street.csv'), PosixPath('/Users/youjungum/dc2/data/repo-dat/2016-10-metropolitan-street.csv'), PosixPath('/Users/youjungum/dc2/data/repo-dat/2013-05-metropolitan-street.csv'), PosixPath('/Users/youjungum/dc2/data/repo-dat/2015-02-metropolitan-street.csv'), PosixPath('/Users/youjungum/dc2/data/repo-dat/2019-02-metropolitan-street.csv'), PosixPath('/Users/youjungum/dc2/data/repo-dat/2024-07-metropolitan-street.csv'), PosixPath('/Users/youjungum/dc2/data/repo-dat/2011-07-metropolitan-street.csv'), PosixPath('/Users/youjungum/dc2/data/repo-dat/2020-02-metropolitan-street.csv'), PosixPath('/Users/youjungum/dc2/data/repo-dat/2012-09-metropolitan-street.csv'), PosixPath('/Users/youjungum/dc2/data/repo-dat/2020-11-metropolitan-street.csv'), PosixPath('/Users/youjungum/dc2/data/repo-dat/2015-11-metropolitan-street.csv'), PosixPath('/Users/youjungum/dc2/data/repo-dat/2019-11-metropolitan-street.csv'), PosixPath('/Users/youjungum/dc2/data/repo-dat/2021-01-metropolitan-street.csv'), PosixPath('/Users/youjungum/dc2/data/repo-dat/2016-03-metropolitan-street.csv'), PosixPath('/Users/youjungum/dc2/data/repo-dat/2023-03-metropolitan-street.csv'), PosixPath('/Users/youjungum/dc2/data/repo-dat/2018-01-metropolitan-street.csv'), PosixPath('/Users/youjungum/dc2/data/repo-dat/2014-01-metropolitan-street.csv'), PosixPath('/Users/youjungum/dc2/data/repo-dat/2012-06-metropolitan-street.csv'), PosixPath('/Users/youjungum/dc2/data/repo-dat/2022-04-metropolitan-street.csv'), PosixPath('/Users/youjungum/dc2/data/repo-dat/2024-03-metropolitan-street.csv'), PosixPath('/Users/youjungum/dc2/data/repo-dat/2019-06-metropolitan-street.csv'), PosixPath('/Users/youjungum/dc2/data/repo-dat/2015-06-metropolitan-street.csv'), PosixPath('/Users/youjungum/dc2/data/repo-dat/2013-01-metropolitan-street.csv'), PosixPath('/Users/youjungum/dc2/data/repo-dat/2020-06-metropolitan-street.csv'), PosixPath('/Users/youjungum/dc2/data/repo-dat/2011-03-metropolitan-street.csv'), PosixPath('/Users/youjungum/dc2/data/repo-dat/2017-04-metropolitan-street.csv'), PosixPath('/Users/youjungum/dc2/data/repo-dat/2012-11-metropolitan-street.csv'), PosixPath('/Users/youjungum/dc2/data/repo-dat/2020-09-metropolitan-street.csv'), PosixPath('/Users/youjungum/dc2/data/repo-dat/2015-09-metropolitan-street.csv'), PosixPath('/Users/youjungum/dc2/data/repo-dat/2019-09-metropolitan-street.csv'), PosixPath('/Users/youjungum/dc2/data/repo-dat/2016-07-metropolitan-street.csv'), PosixPath('/Users/youjungum/dc2/data/repo-dat/2021-05-metropolitan-street.csv'), PosixPath('/Users/youjungum/dc2/data/repo-dat/2012-02-metropolitan-street.csv'), PosixPath('/Users/youjungum/dc2/data/repo-dat/2014-05-metropolitan-street.csv'), PosixPath('/Users/youjungum/dc2/data/repo-dat/2018-05-metropolitan-street.csv'), PosixPath('/Users/youjungum/dc2/data/repo-dat/2023-07-metropolitan-street.csv'), PosixPath('/Users/youjungum/dc2/data/repo-dat/2023-08-metropolitan-street.csv'), PosixPath('/Users/youjungum/dc2/data/repo-dat/2011-10-metropolitan-street.csv'), PosixPath('/Users/youjungum/dc2/data/repo-dat/2024-10-metropolitan-street.csv'), PosixPath('/Users/youjungum/dc2/data/repo-dat/2013-12-metropolitan-street.csv'), PosixPath('/Users/youjungum/dc2/data/repo-dat/2016-08-metropolitan-street.csv'), PosixPath('/Users/youjungum/dc2/data/repo-dat/2011-05-metropolitan-street.csv'), PosixPath('/Users/youjungum/dc2/data/repo-dat/2017-02-metropolitan-street.csv'), PosixPath('/Users/youjungum/dc2/data/repo-dat/2013-07-metropolitan-street.csv'), PosixPath('/Users/youjungum/dc2/data/repo-dat/2022-02-metropolitan-street.csv'), PosixPath('/Users/youjungum/dc2/data/repo-dat/2024-05-metropolitan-street.csv'), PosixPath('/Users/youjungum/dc2/data/repo-dat/2021-10-metropolitan-street.csv'), PosixPath('/Users/youjungum/dc2/data/repo-dat/2013-08-metropolitan-street.csv'), PosixPath('/Users/youjungum/dc2/data/repo-dat/2016-12-metropolitan-street.csv'), PosixPath('/Users/youjungum/dc2/data/repo-dat/2023-12-metropolitan-street.csv'), PosixPath('/Users/youjungum/dc2/data/repo-dat/2018-10-metropolitan-street.csv'), PosixPath('/Users/youjungum/dc2/data/repo-dat/2014-10-metropolitan-street.csv'), PosixPath('/Users/youjungum/dc2/data/repo-dat/2018-03-metropolitan-street.csv'), PosixPath('/Users/youjungum/dc2/data/repo-dat/2023-01-metropolitan-street.csv'), PosixPath('/Users/youjungum/dc2/data/repo-dat/2012-04-metropolitan-street.csv'), PosixPath('/Users/youjungum/dc2/data/repo-dat/2014-03-metropolitan-street.csv'), PosixPath('/Users/youjungum/dc2/data/repo-dat/2021-03-metropolitan-street.csv'), PosixPath('/Users/youjungum/dc2/data/repo-dat/2016-01-metropolitan-street.csv'), PosixPath('/Users/youjungum/dc2/data/repo-dat/2022-11-metropolitan-street.csv'), PosixPath('/Users/youjungum/dc2/data/repo-dat/2017-11-metropolitan-street.csv'), PosixPath('/Users/youjungum/dc2/data/repo-dat/2022-09-metropolitan-street.csv'), PosixPath('/Users/youjungum/dc2/data/repo-dat/2017-09-metropolitan-street.csv'), PosixPath('/Users/youjungum/dc2/data/repo-dat/2020-04-metropolitan-street.csv'), PosixPath('/Users/youjungum/dc2/data/repo-dat/2017-06-metropolitan-street.csv'), PosixPath('/Users/youjungum/dc2/data/repo-dat/2011-01-metropolitan-street.csv'), PosixPath('/Users/youjungum/dc2/data/repo-dat/2024-01-metropolitan-street.csv'), PosixPath('/Users/youjungum/dc2/data/repo-dat/2019-04-metropolitan-street.csv'), PosixPath('/Users/youjungum/dc2/data/repo-dat/2022-06-metropolitan-street.csv'), PosixPath('/Users/youjungum/dc2/data/repo-dat/2013-03-metropolitan-street.csv'), PosixPath('/Users/youjungum/dc2/data/repo-dat/2015-04-metropolitan-street.csv'), PosixPath('/Users/youjungum/dc2/data/repo-dat/2021-08-metropolitan-street.csv'), PosixPath('/Users/youjungum/dc2/data/repo-dat/2024-12-metropolitan-street.csv'), PosixPath('/Users/youjungum/dc2/data/repo-dat/2013-10-metropolitan-street.csv'), PosixPath('/Users/youjungum/dc2/data/repo-dat/2018-08-metropolitan-street.csv'), PosixPath('/Users/youjungum/dc2/data/repo-dat/2011-12-metropolitan-street.csv'), PosixPath('/Users/youjungum/dc2/data/repo-dat/2014-08-metropolitan-street.csv'), PosixPath('/Users/youjungum/dc2/data/repo-dat/2014-07-metropolitan-street.csv'), PosixPath('/Users/youjungum/dc2/data/repo-dat/2023-05-metropolitan-street.csv'), PosixPath('/Users/youjungum/dc2/data/repo-dat/2025-02-metropolitan-street.csv'), PosixPath('/Users/youjungum/dc2/data/repo-dat/2018-07-metropolitan-street.csv'), PosixPath('/Users/youjungum/dc2/data/repo-dat/2016-05-metropolitan-street.csv'), PosixPath('/Users/youjungum/dc2/data/repo-dat/2021-07-metropolitan-street.csv'), PosixPath('/Users/youjungum/dc2/data/repo-dat/2016-09-metropolitan-street.csv'), PosixPath('/Users/youjungum/dc2/data/repo-dat/2024-11-metropolitan-street.csv'), PosixPath('/Users/youjungum/dc2/data/repo-dat/2011-11-metropolitan-street.csv'), PosixPath('/Users/youjungum/dc2/data/repo-dat/2023-09-metropolitan-street.csv'), PosixPath('/Users/youjungum/dc2/data/repo-dat/2018-04-metropolitan-street.csv'), PosixPath('/Users/youjungum/dc2/data/repo-dat/2025-01-metropolitan-street.csv'), PosixPath('/Users/youjungum/dc2/data/repo-dat/2023-06-metropolitan-street.csv'), PosixPath('/Users/youjungum/dc2/data/repo-dat/2012-03-metropolitan-street.csv'), PosixPath('/Users/youjungum/dc2/data/repo-dat/2014-04-metropolitan-street.csv'), PosixPath('/Users/youjungum/dc2/data/repo-dat/2021-04-metropolitan-street.csv'), PosixPath('/Users/youjungum/dc2/data/repo-dat/2016-06-metropolitan-street.csv'), PosixPath('/Users/youjungum/dc2/data/repo-dat/2019-08-metropolitan-street.csv'), PosixPath('/Users/youjungum/dc2/data/repo-dat/2010-12-metropolitan-street.csv'), PosixPath('/Users/youjungum/dc2/data/repo-dat/2015-08-metropolitan-street.csv'), PosixPath('/Users/youjungum/dc2/data/repo-dat/2020-08-metropolitan-street.csv'), PosixPath('/Users/youjungum/dc2/data/repo-dat/2012-10-metropolitan-street.csv'), PosixPath('/Users/youjungum/dc2/data/repo-dat/2011-02-metropolitan-street.csv'), PosixPath('/Users/youjungum/dc2/data/repo-dat/2017-05-metropolitan-street.csv'), PosixPath('/Users/youjungum/dc2/data/repo-dat/2020-07-metropolitan-street.csv'), PosixPath('/Users/youjungum/dc2/data/repo-dat/2015-07-metropolitan-street.csv'), PosixPath('/Users/youjungum/dc2/data/repo-dat/2022-05-metropolitan-street.csv'), PosixPath('/Users/youjungum/dc2/data/repo-dat/2019-07-metropolitan-street.csv'), PosixPath('/Users/youjungum/dc2/data/repo-dat/2024-02-metropolitan-street.csv'), PosixPath('/Users/youjungum/dc2/data/repo-dat/2012-07-metropolitan-street.csv'), PosixPath('/Users/youjungum/dc2/data/repo-dat/2023-02-metropolitan-street.csv'), PosixPath('/Users/youjungum/dc2/data/repo-dat/2016-02-metropolitan-street.csv'), PosixPath('/Users/youjungum/dc2/data/repo-dat/2022-12-metropolitan-street.csv'), PosixPath('/Users/youjungum/dc2/data/repo-dat/2019-10-metropolitan-street.csv'), PosixPath('/Users/youjungum/dc2/data/repo-dat/2015-10-metropolitan-street.csv'), PosixPath('/Users/youjungum/dc2/data/repo-dat/2020-10-metropolitan-street.csv'), PosixPath('/Users/youjungum/dc2/data/repo-dat/2012-08-metropolitan-street.csv'), PosixPath('/Users/youjungum/dc2/data/repo-dat/2017-12-metropolitan-street.csv'), PosixPath('/Users/youjungum/dc2/data/repo-dat/2020-03-metropolitan-street.csv'), PosixPath('/Users/youjungum/dc2/data/repo-dat/2017-01-metropolitan-street.csv'), PosixPath('/Users/youjungum/dc2/data/repo-dat/2011-06-metropolitan-street.csv'), PosixPath('/Users/youjungum/dc2/data/repo-dat/2024-06-metropolitan-street.csv'), PosixPath('/Users/youjungum/dc2/data/repo-dat/2019-03-metropolitan-street.csv'), PosixPath('/Users/youjungum/dc2/data/repo-dat/2022-01-metropolitan-street.csv'), PosixPath('/Users/youjungum/dc2/data/repo-dat/2013-04-metropolitan-street.csv'), PosixPath('/Users/youjungum/dc2/data/repo-dat/2015-03-metropolitan-street.csv'), PosixPath('/Users/youjungum/dc2/data/repo-dat/2016-11-metropolitan-street.csv'), PosixPath('/Users/youjungum/dc2/data/repo-dat/2024-09-metropolitan-street.csv'), PosixPath('/Users/youjungum/dc2/data/repo-dat/2011-09-metropolitan-street.csv'), PosixPath('/Users/youjungum/dc2/data/repo-dat/2023-11-metropolitan-street.csv')]\n",
      "Outcome files: [PosixPath('/Users/youjungum/dc2/data/repo-dat/2024-09-metropolitan-outcomes.csv'), PosixPath('/Users/youjungum/dc2/data/repo-dat/2015-01-metropolitan-outcomes.csv'), PosixPath('/Users/youjungum/dc2/data/repo-dat/2022-11-metropolitan-outcomes.csv'), PosixPath('/Users/youjungum/dc2/data/repo-dat/2020-02-metropolitan-outcomes.csv'), PosixPath('/Users/youjungum/dc2/data/repo-dat/2017-12-metropolitan-outcomes.csv'), PosixPath('/Users/youjungum/dc2/data/repo-dat/2012-05-metropolitan-outcomes.csv'), PosixPath('/Users/youjungum/dc2/data/repo-dat/2019-12-metropolitan-outcomes.csv'), PosixPath('/Users/youjungum/dc2/data/repo-dat/2015-09-metropolitan-outcomes.csv'), PosixPath('/Users/youjungum/dc2/data/repo-dat/2016-06-metropolitan-outcomes.csv'), PosixPath('/Users/youjungum/dc2/data/repo-dat/2018-06-metropolitan-outcomes.csv'), PosixPath('/Users/youjungum/dc2/data/repo-dat/2013-11-metropolitan-outcomes.csv'), PosixPath('/Users/youjungum/dc2/data/repo-dat/2024-01-metropolitan-outcomes.csv'), PosixPath('/Users/youjungum/dc2/data/repo-dat/2023-05-metropolitan-outcomes.csv'), PosixPath('/Users/youjungum/dc2/data/repo-dat/2021-03-metropolitan-outcomes.csv'), PosixPath('/Users/youjungum/dc2/data/repo-dat/2013-04-metropolitan-outcomes.csv'), PosixPath('/Users/youjungum/dc2/data/repo-dat/2023-10-metropolitan-outcomes.csv'), PosixPath('/Users/youjungum/dc2/data/repo-dat/2022-04-metropolitan-outcomes.csv'), PosixPath('/Users/youjungum/dc2/data/repo-dat/2014-08-metropolitan-outcomes.csv'), PosixPath('/Users/youjungum/dc2/data/repo-dat/2017-07-metropolitan-outcomes.csv'), PosixPath('/Users/youjungum/dc2/data/repo-dat/2019-07-metropolitan-outcomes.csv'), PosixPath('/Users/youjungum/dc2/data/repo-dat/2012-10-metropolitan-outcomes.csv'), PosixPath('/Users/youjungum/dc2/data/repo-dat/2020-10-metropolitan-outcomes.csv'), PosixPath('/Users/youjungum/dc2/data/repo-dat/2022-03-metropolitan-outcomes.csv'), PosixPath('/Users/youjungum/dc2/data/repo-dat/2014-07-metropolitan-outcomes.csv'), PosixPath('/Users/youjungum/dc2/data/repo-dat/2019-08-metropolitan-outcomes.csv'), PosixPath('/Users/youjungum/dc2/data/repo-dat/2017-08-metropolitan-outcomes.csv'), PosixPath('/Users/youjungum/dc2/data/repo-dat/2021-04-metropolitan-outcomes.csv'), PosixPath('/Users/youjungum/dc2/data/repo-dat/2013-03-metropolitan-outcomes.csv'), PosixPath('/Users/youjungum/dc2/data/repo-dat/2014-12-metropolitan-outcomes.csv'), PosixPath('/Users/youjungum/dc2/data/repo-dat/2023-02-metropolitan-outcomes.csv'), PosixPath('/Users/youjungum/dc2/data/repo-dat/2021-11-metropolitan-outcomes.csv'), PosixPath('/Users/youjungum/dc2/data/repo-dat/2016-01-metropolitan-outcomes.csv'), PosixPath('/Users/youjungum/dc2/data/repo-dat/2024-06-metropolitan-outcomes.csv'), PosixPath('/Users/youjungum/dc2/data/repo-dat/2018-01-metropolitan-outcomes.csv'), PosixPath('/Users/youjungum/dc2/data/repo-dat/2020-05-metropolitan-outcomes.csv'), PosixPath('/Users/youjungum/dc2/data/repo-dat/2012-02-metropolitan-outcomes.csv'), PosixPath('/Users/youjungum/dc2/data/repo-dat/2015-06-metropolitan-outcomes.csv'), PosixPath('/Users/youjungum/dc2/data/repo-dat/2018-09-metropolitan-outcomes.csv'), PosixPath('/Users/youjungum/dc2/data/repo-dat/2016-09-metropolitan-outcomes.csv'), PosixPath('/Users/youjungum/dc2/data/repo-dat/2015-03-metropolitan-outcomes.csv'), PosixPath('/Users/youjungum/dc2/data/repo-dat/2017-10-metropolitan-outcomes.csv'), PosixPath('/Users/youjungum/dc2/data/repo-dat/2019-10-metropolitan-outcomes.csv'), PosixPath('/Users/youjungum/dc2/data/repo-dat/2012-07-metropolitan-outcomes.csv'), PosixPath('/Users/youjungum/dc2/data/repo-dat/2016-04-metropolitan-outcomes.csv'), PosixPath('/Users/youjungum/dc2/data/repo-dat/2024-03-metropolitan-outcomes.csv'), PosixPath('/Users/youjungum/dc2/data/repo-dat/2018-04-metropolitan-outcomes.csv'), PosixPath('/Users/youjungum/dc2/data/repo-dat/2023-07-metropolitan-outcomes.csv'), PosixPath('/Users/youjungum/dc2/data/repo-dat/2020-08-metropolitan-outcomes.csv'), PosixPath('/Users/youjungum/dc2/data/repo-dat/2021-01-metropolitan-outcomes.csv'), PosixPath('/Users/youjungum/dc2/data/repo-dat/2016-11-metropolitan-outcomes.csv'), PosixPath('/Users/youjungum/dc2/data/repo-dat/2018-11-metropolitan-outcomes.csv'), PosixPath('/Users/youjungum/dc2/data/repo-dat/2013-06-metropolitan-outcomes.csv'), PosixPath('/Users/youjungum/dc2/data/repo-dat/2014-02-metropolitan-outcomes.csv'), PosixPath('/Users/youjungum/dc2/data/repo-dat/2023-12-metropolitan-outcomes.csv'), PosixPath('/Users/youjungum/dc2/data/repo-dat/2022-06-metropolitan-outcomes.csv'), PosixPath('/Users/youjungum/dc2/data/repo-dat/2021-09-metropolitan-outcomes.csv'), PosixPath('/Users/youjungum/dc2/data/repo-dat/2017-05-metropolitan-outcomes.csv'), PosixPath('/Users/youjungum/dc2/data/repo-dat/2012-12-metropolitan-outcomes.csv'), PosixPath('/Users/youjungum/dc2/data/repo-dat/2025-02-metropolitan-outcomes.csv'), PosixPath('/Users/youjungum/dc2/data/repo-dat/2019-05-metropolitan-outcomes.csv'), PosixPath('/Users/youjungum/dc2/data/repo-dat/2020-12-metropolitan-outcomes.csv'), PosixPath('/Users/youjungum/dc2/data/repo-dat/2017-02-metropolitan-outcomes.csv'), PosixPath('/Users/youjungum/dc2/data/repo-dat/2019-02-metropolitan-outcomes.csv'), PosixPath('/Users/youjungum/dc2/data/repo-dat/2013-09-metropolitan-outcomes.csv'), PosixPath('/Users/youjungum/dc2/data/repo-dat/2015-11-metropolitan-outcomes.csv'), PosixPath('/Users/youjungum/dc2/data/repo-dat/2022-01-metropolitan-outcomes.csv'), PosixPath('/Users/youjungum/dc2/data/repo-dat/2014-05-metropolitan-outcomes.csv'), PosixPath('/Users/youjungum/dc2/data/repo-dat/2022-09-metropolitan-outcomes.csv'), PosixPath('/Users/youjungum/dc2/data/repo-dat/2021-06-metropolitan-outcomes.csv'), PosixPath('/Users/youjungum/dc2/data/repo-dat/2013-01-metropolitan-outcomes.csv'), PosixPath('/Users/youjungum/dc2/data/repo-dat/2024-11-metropolitan-outcomes.csv'), PosixPath('/Users/youjungum/dc2/data/repo-dat/2012-08-metropolitan-outcomes.csv'), PosixPath('/Users/youjungum/dc2/data/repo-dat/2014-10-metropolitan-outcomes.csv'), PosixPath('/Users/youjungum/dc2/data/repo-dat/2016-03-metropolitan-outcomes.csv'), PosixPath('/Users/youjungum/dc2/data/repo-dat/2018-03-metropolitan-outcomes.csv'), PosixPath('/Users/youjungum/dc2/data/repo-dat/2024-04-metropolitan-outcomes.csv'), PosixPath('/Users/youjungum/dc2/data/repo-dat/2023-08-metropolitan-outcomes.csv'), PosixPath('/Users/youjungum/dc2/data/repo-dat/2020-07-metropolitan-outcomes.csv'), PosixPath('/Users/youjungum/dc2/data/repo-dat/2015-04-metropolitan-outcomes.csv'), PosixPath('/Users/youjungum/dc2/data/repo-dat/2023-09-metropolitan-outcomes.csv'), PosixPath('/Users/youjungum/dc2/data/repo-dat/2012-01-metropolitan-outcomes.csv'), PosixPath('/Users/youjungum/dc2/data/repo-dat/2020-06-metropolitan-outcomes.csv'), PosixPath('/Users/youjungum/dc2/data/repo-dat/2015-05-metropolitan-outcomes.csv'), PosixPath('/Users/youjungum/dc2/data/repo-dat/2012-09-metropolitan-outcomes.csv'), PosixPath('/Users/youjungum/dc2/data/repo-dat/2023-01-metropolitan-outcomes.csv'), PosixPath('/Users/youjungum/dc2/data/repo-dat/2014-11-metropolitan-outcomes.csv'), PosixPath('/Users/youjungum/dc2/data/repo-dat/2018-02-metropolitan-outcomes.csv'), PosixPath('/Users/youjungum/dc2/data/repo-dat/2024-05-metropolitan-outcomes.csv'), PosixPath('/Users/youjungum/dc2/data/repo-dat/2016-02-metropolitan-outcomes.csv'), PosixPath('/Users/youjungum/dc2/data/repo-dat/2021-12-metropolitan-outcomes.csv'), PosixPath('/Users/youjungum/dc2/data/repo-dat/2014-04-metropolitan-outcomes.csv'), PosixPath('/Users/youjungum/dc2/data/repo-dat/2022-08-metropolitan-outcomes.csv'), PosixPath('/Users/youjungum/dc2/data/repo-dat/2024-10-metropolitan-outcomes.csv'), PosixPath('/Users/youjungum/dc2/data/repo-dat/2021-07-metropolitan-outcomes.csv'), PosixPath('/Users/youjungum/dc2/data/repo-dat/2019-03-metropolitan-outcomes.csv'), PosixPath('/Users/youjungum/dc2/data/repo-dat/2017-03-metropolitan-outcomes.csv'), PosixPath('/Users/youjungum/dc2/data/repo-dat/2013-08-metropolitan-outcomes.csv'), PosixPath('/Users/youjungum/dc2/data/repo-dat/2015-10-metropolitan-outcomes.csv'), PosixPath('/Users/youjungum/dc2/data/repo-dat/2022-07-metropolitan-outcomes.csv'), PosixPath('/Users/youjungum/dc2/data/repo-dat/2021-08-metropolitan-outcomes.csv'), PosixPath('/Users/youjungum/dc2/data/repo-dat/2019-04-metropolitan-outcomes.csv'), PosixPath('/Users/youjungum/dc2/data/repo-dat/2017-04-metropolitan-outcomes.csv'), PosixPath('/Users/youjungum/dc2/data/repo-dat/2018-10-metropolitan-outcomes.csv'), PosixPath('/Users/youjungum/dc2/data/repo-dat/2013-07-metropolitan-outcomes.csv'), PosixPath('/Users/youjungum/dc2/data/repo-dat/2016-10-metropolitan-outcomes.csv'), PosixPath('/Users/youjungum/dc2/data/repo-dat/2014-03-metropolitan-outcomes.csv'), PosixPath('/Users/youjungum/dc2/data/repo-dat/2024-02-metropolitan-outcomes.csv'), PosixPath('/Users/youjungum/dc2/data/repo-dat/2013-12-metropolitan-outcomes.csv'), PosixPath('/Users/youjungum/dc2/data/repo-dat/2018-05-metropolitan-outcomes.csv'), PosixPath('/Users/youjungum/dc2/data/repo-dat/2016-05-metropolitan-outcomes.csv'), PosixPath('/Users/youjungum/dc2/data/repo-dat/2023-06-metropolitan-outcomes.csv'), PosixPath('/Users/youjungum/dc2/data/repo-dat/2020-09-metropolitan-outcomes.csv'), PosixPath('/Users/youjungum/dc2/data/repo-dat/2022-12-metropolitan-outcomes.csv'), PosixPath('/Users/youjungum/dc2/data/repo-dat/2015-02-metropolitan-outcomes.csv'), PosixPath('/Users/youjungum/dc2/data/repo-dat/2019-11-metropolitan-outcomes.csv'), PosixPath('/Users/youjungum/dc2/data/repo-dat/2012-06-metropolitan-outcomes.csv'), PosixPath('/Users/youjungum/dc2/data/repo-dat/2017-11-metropolitan-outcomes.csv'), PosixPath('/Users/youjungum/dc2/data/repo-dat/2020-01-metropolitan-outcomes.csv'), PosixPath('/Users/youjungum/dc2/data/repo-dat/2012-03-metropolitan-outcomes.csv'), PosixPath('/Users/youjungum/dc2/data/repo-dat/2020-04-metropolitan-outcomes.csv'), PosixPath('/Users/youjungum/dc2/data/repo-dat/2015-07-metropolitan-outcomes.csv'), PosixPath('/Users/youjungum/dc2/data/repo-dat/2016-08-metropolitan-outcomes.csv'), PosixPath('/Users/youjungum/dc2/data/repo-dat/2018-08-metropolitan-outcomes.csv'), PosixPath('/Users/youjungum/dc2/data/repo-dat/2023-03-metropolitan-outcomes.csv'), PosixPath('/Users/youjungum/dc2/data/repo-dat/2024-07-metropolitan-outcomes.csv'), PosixPath('/Users/youjungum/dc2/data/repo-dat/2021-10-metropolitan-outcomes.csv'), PosixPath('/Users/youjungum/dc2/data/repo-dat/2014-06-metropolitan-outcomes.csv'), PosixPath('/Users/youjungum/dc2/data/repo-dat/2017-09-metropolitan-outcomes.csv'), PosixPath('/Users/youjungum/dc2/data/repo-dat/2019-09-metropolitan-outcomes.csv'), PosixPath('/Users/youjungum/dc2/data/repo-dat/2024-12-metropolitan-outcomes.csv'), PosixPath('/Users/youjungum/dc2/data/repo-dat/2013-02-metropolitan-outcomes.csv'), PosixPath('/Users/youjungum/dc2/data/repo-dat/2021-05-metropolitan-outcomes.csv'), PosixPath('/Users/youjungum/dc2/data/repo-dat/2019-01-metropolitan-outcomes.csv'), PosixPath('/Users/youjungum/dc2/data/repo-dat/2017-01-metropolitan-outcomes.csv'), PosixPath('/Users/youjungum/dc2/data/repo-dat/2020-11-metropolitan-outcomes.csv'), PosixPath('/Users/youjungum/dc2/data/repo-dat/2022-02-metropolitan-outcomes.csv'), PosixPath('/Users/youjungum/dc2/data/repo-dat/2015-12-metropolitan-outcomes.csv'), PosixPath('/Users/youjungum/dc2/data/repo-dat/2022-05-metropolitan-outcomes.csv'), PosixPath('/Users/youjungum/dc2/data/repo-dat/2014-09-metropolitan-outcomes.csv'), PosixPath('/Users/youjungum/dc2/data/repo-dat/2019-06-metropolitan-outcomes.csv'), PosixPath('/Users/youjungum/dc2/data/repo-dat/2025-01-metropolitan-outcomes.csv'), PosixPath('/Users/youjungum/dc2/data/repo-dat/2012-11-metropolitan-outcomes.csv'), PosixPath('/Users/youjungum/dc2/data/repo-dat/2017-06-metropolitan-outcomes.csv'), PosixPath('/Users/youjungum/dc2/data/repo-dat/2013-05-metropolitan-outcomes.csv'), PosixPath('/Users/youjungum/dc2/data/repo-dat/2018-12-metropolitan-outcomes.csv'), PosixPath('/Users/youjungum/dc2/data/repo-dat/2016-12-metropolitan-outcomes.csv'), PosixPath('/Users/youjungum/dc2/data/repo-dat/2021-02-metropolitan-outcomes.csv'), PosixPath('/Users/youjungum/dc2/data/repo-dat/2023-11-metropolitan-outcomes.csv'), PosixPath('/Users/youjungum/dc2/data/repo-dat/2014-01-metropolitan-outcomes.csv'), PosixPath('/Users/youjungum/dc2/data/repo-dat/2015-08-metropolitan-outcomes.csv'), PosixPath('/Users/youjungum/dc2/data/repo-dat/2018-07-metropolitan-outcomes.csv'), PosixPath('/Users/youjungum/dc2/data/repo-dat/2013-10-metropolitan-outcomes.csv'), PosixPath('/Users/youjungum/dc2/data/repo-dat/2016-07-metropolitan-outcomes.csv'), PosixPath('/Users/youjungum/dc2/data/repo-dat/2023-04-metropolitan-outcomes.csv'), PosixPath('/Users/youjungum/dc2/data/repo-dat/2024-08-metropolitan-outcomes.csv'), PosixPath('/Users/youjungum/dc2/data/repo-dat/2022-10-metropolitan-outcomes.csv'), PosixPath('/Users/youjungum/dc2/data/repo-dat/2012-04-metropolitan-outcomes.csv'), PosixPath('/Users/youjungum/dc2/data/repo-dat/2020-03-metropolitan-outcomes.csv')]\n",
      "Search files: [PosixPath('/Users/youjungum/dc2/data/repo-dat/2017-05-metropolitan-stop-and-search.csv'), PosixPath('/Users/youjungum/dc2/data/repo-dat/2019-08-metropolitan-stop-and-search.csv'), PosixPath('/Users/youjungum/dc2/data/repo-dat/2023-09-metropolitan-stop-and-search.csv'), PosixPath('/Users/youjungum/dc2/data/repo-dat/2018-01-metropolitan-stop-and-search.csv'), PosixPath('/Users/youjungum/dc2/data/repo-dat/2020-05-metropolitan-stop-and-search.csv'), PosixPath('/Users/youjungum/dc2/data/repo-dat/2022-04-metropolitan-stop-and-search.csv'), PosixPath('/Users/youjungum/dc2/data/repo-dat/2018-05-metropolitan-stop-and-search.csv'), PosixPath('/Users/youjungum/dc2/data/repo-dat/2016-08-metropolitan-stop-and-search.csv'), PosixPath('/Users/youjungum/dc2/data/repo-dat/2020-01-metropolitan-stop-and-search.csv'), PosixPath('/Users/youjungum/dc2/data/repo-dat/2023-12-metropolitan-stop-and-search.csv'), PosixPath('/Users/youjungum/dc2/data/repo-dat/2021-08-metropolitan-stop-and-search.csv'), PosixPath('/Users/youjungum/dc2/data/repo-dat/2015-04-metropolitan-stop-and-search.csv'), PosixPath('/Users/youjungum/dc2/data/repo-dat/2017-01-metropolitan-stop-and-search.csv'), PosixPath('/Users/youjungum/dc2/data/repo-dat/2020-09-metropolitan-stop-and-search.csv'), PosixPath('/Users/youjungum/dc2/data/repo-dat/2019-04-metropolitan-stop-and-search.csv'), PosixPath('/Users/youjungum/dc2/data/repo-dat/2017-09-metropolitan-stop-and-search.csv'), PosixPath('/Users/youjungum/dc2/data/repo-dat/2024-03-metropolitan-stop-and-search.csv'), PosixPath('/Users/youjungum/dc2/data/repo-dat/2023-05-metropolitan-stop-and-search.csv'), PosixPath('/Users/youjungum/dc2/data/repo-dat/2018-12-metropolitan-stop-and-search.csv'), PosixPath('/Users/youjungum/dc2/data/repo-dat/2023-01-metropolitan-stop-and-search.csv'), PosixPath('/Users/youjungum/dc2/data/repo-dat/2024-07-metropolitan-stop-and-search.csv'), PosixPath('/Users/youjungum/dc2/data/repo-dat/2020-12-metropolitan-stop-and-search.csv'), PosixPath('/Users/youjungum/dc2/data/repo-dat/2021-04-metropolitan-stop-and-search.csv'), PosixPath('/Users/youjungum/dc2/data/repo-dat/2015-08-metropolitan-stop-and-search.csv'), PosixPath('/Users/youjungum/dc2/data/repo-dat/2017-12-metropolitan-stop-and-search.csv'), PosixPath('/Users/youjungum/dc2/data/repo-dat/2022-08-metropolitan-stop-and-search.csv'), PosixPath('/Users/youjungum/dc2/data/repo-dat/2016-04-metropolitan-stop-and-search.csv'), PosixPath('/Users/youjungum/dc2/data/repo-dat/2018-09-metropolitan-stop-and-search.csv'), PosixPath('/Users/youjungum/dc2/data/repo-dat/2023-06-metropolitan-stop-and-search.csv'), PosixPath('/Users/youjungum/dc2/data/repo-dat/2019-07-metropolitan-stop-and-search.csv'), PosixPath('/Users/youjungum/dc2/data/repo-dat/2021-03-metropolitan-stop-and-search.csv'), PosixPath('/Users/youjungum/dc2/data/repo-dat/2018-11-metropolitan-stop-and-search.csv'), PosixPath('/Users/youjungum/dc2/data/repo-dat/2022-10-metropolitan-stop-and-search.csv'), PosixPath('/Users/youjungum/dc2/data/repo-dat/2015-10-metropolitan-stop-and-search.csv'), PosixPath('/Users/youjungum/dc2/data/repo-dat/2016-03-metropolitan-stop-and-search.csv'), PosixPath('/Users/youjungum/dc2/data/repo-dat/2017-11-metropolitan-stop-and-search.csv'), PosixPath('/Users/youjungum/dc2/data/repo-dat/2016-07-metropolitan-stop-and-search.csv'), PosixPath('/Users/youjungum/dc2/data/repo-dat/2019-03-metropolitan-stop-and-search.csv'), PosixPath('/Users/youjungum/dc2/data/repo-dat/2020-11-metropolitan-stop-and-search.csv'), PosixPath('/Users/youjungum/dc2/data/repo-dat/2024-04-metropolitan-stop-and-search.csv'), PosixPath('/Users/youjungum/dc2/data/repo-dat/2023-02-metropolitan-stop-and-search.csv'), PosixPath('/Users/youjungum/dc2/data/repo-dat/2021-07-metropolitan-stop-and-search.csv'), PosixPath('/Users/youjungum/dc2/data/repo-dat/2022-03-metropolitan-stop-and-search.csv'), PosixPath('/Users/youjungum/dc2/data/repo-dat/2021-10-metropolitan-stop-and-search.csv'), PosixPath('/Users/youjungum/dc2/data/repo-dat/2018-02-metropolitan-stop-and-search.csv'), PosixPath('/Users/youjungum/dc2/data/repo-dat/2020-06-metropolitan-stop-and-search.csv'), PosixPath('/Users/youjungum/dc2/data/repo-dat/2016-10-metropolitan-stop-and-search.csv'), PosixPath('/Users/youjungum/dc2/data/repo-dat/2017-06-metropolitan-stop-and-search.csv'), PosixPath('/Users/youjungum/dc2/data/repo-dat/2015-07-metropolitan-stop-and-search.csv'), PosixPath('/Users/youjungum/dc2/data/repo-dat/2017-02-metropolitan-stop-and-search.csv'), PosixPath('/Users/youjungum/dc2/data/repo-dat/2024-08-metropolitan-stop-and-search.csv'), PosixPath('/Users/youjungum/dc2/data/repo-dat/2018-06-metropolitan-stop-and-search.csv'), PosixPath('/Users/youjungum/dc2/data/repo-dat/2022-07-metropolitan-stop-and-search.csv'), PosixPath('/Users/youjungum/dc2/data/repo-dat/2023-11-metropolitan-stop-and-search.csv'), PosixPath('/Users/youjungum/dc2/data/repo-dat/2019-10-metropolitan-stop-and-search.csv'), PosixPath('/Users/youjungum/dc2/data/repo-dat/2020-02-metropolitan-stop-and-search.csv'), PosixPath('/Users/youjungum/dc2/data/repo-dat/2015-09-metropolitan-stop-and-search.csv'), PosixPath('/Users/youjungum/dc2/data/repo-dat/2021-05-metropolitan-stop-and-search.csv'), PosixPath('/Users/youjungum/dc2/data/repo-dat/2019-01-metropolitan-stop-and-search.csv'), PosixPath('/Users/youjungum/dc2/data/repo-dat/2024-06-metropolitan-stop-and-search.csv'), PosixPath('/Users/youjungum/dc2/data/repo-dat/2018-08-metropolitan-stop-and-search.csv'), PosixPath('/Users/youjungum/dc2/data/repo-dat/2016-05-metropolitan-stop-and-search.csv'), PosixPath('/Users/youjungum/dc2/data/repo-dat/2022-09-metropolitan-stop-and-search.csv'), PosixPath('/Users/youjungum/dc2/data/repo-dat/2015-12-metropolitan-stop-and-search.csv'), PosixPath('/Users/youjungum/dc2/data/repo-dat/2016-01-metropolitan-stop-and-search.csv'), PosixPath('/Users/youjungum/dc2/data/repo-dat/2020-08-metropolitan-stop-and-search.csv'), PosixPath('/Users/youjungum/dc2/data/repo-dat/2021-01-metropolitan-stop-and-search.csv'), PosixPath('/Users/youjungum/dc2/data/repo-dat/2022-12-metropolitan-stop-and-search.csv'), PosixPath('/Users/youjungum/dc2/data/repo-dat/2023-04-metropolitan-stop-and-search.csv'), PosixPath('/Users/youjungum/dc2/data/repo-dat/2024-02-metropolitan-stop-and-search.csv'), PosixPath('/Users/youjungum/dc2/data/repo-dat/2017-08-metropolitan-stop-and-search.csv'), PosixPath('/Users/youjungum/dc2/data/repo-dat/2019-05-metropolitan-stop-and-search.csv'), PosixPath('/Users/youjungum/dc2/data/repo-dat/2019-12-metropolitan-stop-and-search.csv'), PosixPath('/Users/youjungum/dc2/data/repo-dat/2016-09-metropolitan-stop-and-search.csv'), PosixPath('/Users/youjungum/dc2/data/repo-dat/2018-04-metropolitan-stop-and-search.csv'), PosixPath('/Users/youjungum/dc2/data/repo-dat/2022-05-metropolitan-stop-and-search.csv'), PosixPath('/Users/youjungum/dc2/data/repo-dat/2015-05-metropolitan-stop-and-search.csv'), PosixPath('/Users/youjungum/dc2/data/repo-dat/2021-09-metropolitan-stop-and-search.csv'), PosixPath('/Users/youjungum/dc2/data/repo-dat/2023-08-metropolitan-stop-and-search.csv'), PosixPath('/Users/youjungum/dc2/data/repo-dat/2019-09-metropolitan-stop-and-search.csv'), PosixPath('/Users/youjungum/dc2/data/repo-dat/2017-04-metropolitan-stop-and-search.csv'), PosixPath('/Users/youjungum/dc2/data/repo-dat/2016-12-metropolitan-stop-and-search.csv'), PosixPath('/Users/youjungum/dc2/data/repo-dat/2020-04-metropolitan-stop-and-search.csv'), PosixPath('/Users/youjungum/dc2/data/repo-dat/2022-01-metropolitan-stop-and-search.csv'), PosixPath('/Users/youjungum/dc2/data/repo-dat/2021-12-metropolitan-stop-and-search.csv'), PosixPath('/Users/youjungum/dc2/data/repo-dat/2017-03-metropolitan-stop-and-search.csv'), PosixPath('/Users/youjungum/dc2/data/repo-dat/2015-06-metropolitan-stop-and-search.csv'), PosixPath('/Users/youjungum/dc2/data/repo-dat/2020-03-metropolitan-stop-and-search.csv'), PosixPath('/Users/youjungum/dc2/data/repo-dat/2019-11-metropolitan-stop-and-search.csv'), PosixPath('/Users/youjungum/dc2/data/repo-dat/2023-10-metropolitan-stop-and-search.csv'), PosixPath('/Users/youjungum/dc2/data/repo-dat/2022-06-metropolitan-stop-and-search.csv'), PosixPath('/Users/youjungum/dc2/data/repo-dat/2018-07-metropolitan-stop-and-search.csv'), PosixPath('/Users/youjungum/dc2/data/repo-dat/2020-07-metropolitan-stop-and-search.csv'), PosixPath('/Users/youjungum/dc2/data/repo-dat/2018-03-metropolitan-stop-and-search.csv'), PosixPath('/Users/youjungum/dc2/data/repo-dat/2021-11-metropolitan-stop-and-search.csv'), PosixPath('/Users/youjungum/dc2/data/repo-dat/2022-02-metropolitan-stop-and-search.csv'), PosixPath('/Users/youjungum/dc2/data/repo-dat/2017-07-metropolitan-stop-and-search.csv'), PosixPath('/Users/youjungum/dc2/data/repo-dat/2016-11-metropolitan-stop-and-search.csv'), PosixPath('/Users/youjungum/dc2/data/repo-dat/2016-06-metropolitan-stop-and-search.csv'), PosixPath('/Users/youjungum/dc2/data/repo-dat/2017-10-metropolitan-stop-and-search.csv'), PosixPath('/Users/youjungum/dc2/data/repo-dat/2021-06-metropolitan-stop-and-search.csv'), PosixPath('/Users/youjungum/dc2/data/repo-dat/2023-03-metropolitan-stop-and-search.csv'), PosixPath('/Users/youjungum/dc2/data/repo-dat/2024-05-metropolitan-stop-and-search.csv'), PosixPath('/Users/youjungum/dc2/data/repo-dat/2020-10-metropolitan-stop-and-search.csv'), PosixPath('/Users/youjungum/dc2/data/repo-dat/2019-02-metropolitan-stop-and-search.csv'), PosixPath('/Users/youjungum/dc2/data/repo-dat/2022-11-metropolitan-stop-and-search.csv'), PosixPath('/Users/youjungum/dc2/data/repo-dat/2018-10-metropolitan-stop-and-search.csv'), PosixPath('/Users/youjungum/dc2/data/repo-dat/2021-02-metropolitan-stop-and-search.csv'), PosixPath('/Users/youjungum/dc2/data/repo-dat/2019-06-metropolitan-stop-and-search.csv'), PosixPath('/Users/youjungum/dc2/data/repo-dat/2024-01-metropolitan-stop-and-search.csv'), PosixPath('/Users/youjungum/dc2/data/repo-dat/2023-07-metropolitan-stop-and-search.csv'), PosixPath('/Users/youjungum/dc2/data/repo-dat/2016-02-metropolitan-stop-and-search.csv'), PosixPath('/Users/youjungum/dc2/data/repo-dat/2015-11-metropolitan-stop-and-search.csv')]\n"
     ]
    }
   ],
   "source": [
    "street_dat = list(burg_dir.glob(\"*-metropolitan-street.csv\"))\n",
    "outcome_dat = list(burg_dir.glob(\"*-metropolitan-outcomes.csv\"))\n",
    "search_dat = list(burg_dir.glob(\"*-metropolitan-stop-and-search.csv\"))\n",
    "\n",
    "print(\"Street files:\", street_dat)\n",
    "print(\"Outcome files:\", outcome_dat)\n",
    "print(\"Search files:\", search_dat)"
   ]
  },
  {
   "cell_type": "code",
   "execution_count": 16,
   "id": "5ad6314f",
   "metadata": {},
   "outputs": [],
   "source": [
    "burg_street = pd.concat(\n",
    "    (pd.read_csv(f, parse_dates=[\"Month\"], dtype={\"LSOA code\": str})\n",
    "     for f in street_dat),\n",
    "    ignore_index=True\n",
    ") if street_dat else pd.DataFrame()"
   ]
  },
  {
   "cell_type": "code",
   "execution_count": 17,
   "id": "72b0ad08",
   "metadata": {},
   "outputs": [],
   "source": [
    "burg_outcome = pd.concat(\n",
    "    (pd.read_csv(f, parse_dates=[\"Month\"], dtype={\"LSOA code\": str})\n",
    "     for f in outcome_dat),\n",
    "    ignore_index=True\n",
    ") if outcome_dat else pd.DataFrame()"
   ]
  },
  {
   "cell_type": "code",
   "execution_count": 19,
   "id": "9a5915a9",
   "metadata": {},
   "outputs": [],
   "source": [
    "burg_search = pd.concat(\n",
    "    (pd.read_csv(f, parse_dates=[\"Date\"], dtype={\"Latitude\": float})\n",
    "     for f in search_dat),\n",
    "    ignore_index=True\n",
    ") if search_dat else pd.DataFrame()"
   ]
  },
  {
   "cell_type": "code",
   "execution_count": 21,
   "id": "d5c8999c",
   "metadata": {},
   "outputs": [],
   "source": [
    "df_burg = (\n",
    "    burg_street[burg_street[\"Crime type\"] == \"Burglary\"]\n",
    "    .assign(Year=lambda d: d[\"Month\"].dt.year)\n",
    "    .groupby([\"LSOA code\", \"Year\"])\n",
    "    .size()\n",
    "    .reset_index(name=\"BurglaryCount\")\n",
    "    .rename(columns={\"LSOA code\": \"LSOA_code\"})\n",
    ")"
   ]
  },
  {
   "cell_type": "code",
   "execution_count": 24,
   "id": "70f1038d",
   "metadata": {},
   "outputs": [],
   "source": [
    "pp_dir = dat_dir / \"lr-pp\"\n",
    "pp_dat = list(pp_dir.glob(\"*.csv\"))\n",
    "\n",
    "pp_cols = [\n",
    "    \"TransactionID\", \"Price Paid\", \"Date of Transfer\", \"Postcode\",\n",
    "    \"Property Type\", \"Old/New\", \"Duration\",\n",
    "    \"PAON\", \"SAON\", \"Street\", \"Locality\", \"Town/City\",\n",
    "    \"District\", \"County\", \"PPD Category Type\", \"Record Status\"\n",
    "]\n",
    "\n",
    "frames = []\n",
    "\n",
    "for f in pp_dat:\n",
    "    tmp_pp = pd.read_csv(\n",
    "        f, \n",
    "        header=None, \n",
    "        names=pp_cols, \n",
    "        parse_dates=[2], \n",
    "        dayfirst=False,\n",
    "        dtype={\"Postcode\": str}, \n",
    "        na_values = [\"\", \" \"]\n",
    "    ) \n",
    "    frames.append(tmp_pp)\n",
    "\n",
    "df_pp_raw = pd.concat(frames, ignore_index=True)"
   ]
  },
  {
   "cell_type": "code",
   "execution_count": 26,
   "id": "2065be66",
   "metadata": {},
   "outputs": [
    {
     "name": "stdout",
     "output_type": "stream",
     "text": [
      "df_pp: (412664, 4)\n"
     ]
    }
   ],
   "source": [
    "df_pp = (\n",
    "    df_pp_raw[df_pp_raw[\"County\"].str.contains(\"LONDON\", na=False)]\n",
    "    .assign(Year=lambda d: d[\"Date of Transfer\"].dt.year) \n",
    "    .groupby([\"Postcode\", \"Year\"]) \n",
    "    .agg(\n",
    "        MedianPrice = (\"Price Paid\", \"median\"), \n",
    "        NTransactions = (\"Price Paid\", \"count\"),\n",
    "    )\n",
    "    .reset_index()\n",
    ")\n",
    "\n",
    "print(\"df_pp:\", df_pp.shape)"
   ]
  },
  {
   "cell_type": "code",
   "execution_count": 27,
   "id": "1f503e73",
   "metadata": {},
   "outputs": [],
   "source": [
    "burg_borough = (\n",
    "    burg_street[burg_street[\"Crime type\"]==\"Burglary\"]\n",
    "    .assign(Year=lambda d: d[\"Month\"].dt.year)\n",
    "    .groupby([\"Falls within\",\"Year\"])\n",
    "    .size()\n",
    "    .reset_index(name=\"BurglaryCount\")\n",
    "    .rename(columns={\"Falls within\":\"Borough\"})\n",
    ")"
   ]
  },
  {
   "cell_type": "code",
   "execution_count": null,
   "id": "99c23734",
   "metadata": {},
   "outputs": [
    {
     "name": "stdout",
     "output_type": "stream",
     "text": [
      "True\n"
     ]
    }
   ],
   "source": [
    "# ONS Postcode Directory (UK Government)\n",
    "# https://open-geography-portalx-ons.hub.arcgis.com/datasets/ons::ons-postcode-directory-august-2024-for-the-uk/about\n",
    "onspd_dir = base_dir / \"data\" / \"onspd-aug24\" / \"ONSPD_AUG_2024_UK.csv\"\n",
    "print(onspd_dir.exists())"
   ]
  },
  {
   "cell_type": "code",
   "execution_count": 42,
   "id": "77bf0006",
   "metadata": {},
   "outputs": [
    {
     "name": "stdout",
     "output_type": "stream",
     "text": [
      "ONSPD:  2706710\n"
     ]
    }
   ],
   "source": [
    "if onspd_dir.exists():\n",
    "    onspd = pd.read_csv(\n",
    "        onspd_dir, \n",
    "        usecols=[\"lsoa11\", \"pcds\", \"oslaua\", \"osward\"], \n",
    "        dtype=str\n",
    "    ).rename(columns={\n",
    "        \"lsoa11\": \"LSOACode\", \n",
    "        \"pcds\": \"PostcodeCleaned\", \n",
    "        \"oslaua\": \"BoroughCode\", \n",
    "        \"osward\": \"ONSWardCode\"\n",
    "    })\n",
    "    print(\"ONSPD: \", len(onspd))\n",
    "else: \n",
    "    raise FileNotFoundError(f\"ONSPD csv file could not be found at {onspd_dir}\")"
   ]
  },
  {
   "cell_type": "code",
   "execution_count": 43,
   "id": "801e4632",
   "metadata": {},
   "outputs": [
    {
     "ename": "",
     "evalue": "",
     "output_type": "error",
     "traceback": [
      "\u001b[1;31mThe Kernel crashed while executing code in the current cell or a previous cell. \n",
      "\u001b[1;31mPlease review the code in the cell(s) to identify a possible cause of the failure. \n",
      "\u001b[1;31mClick <a href='https://aka.ms/vscodeJupyterKernelCrash'>here</a> for more info. \n",
      "\u001b[1;31mView Jupyter <a href='command:jupyter.viewOutput'>log</a> for further details."
     ]
    }
   ],
   "source": [
    "df_burg_raw = burg_street.rename(columns={\"LSOA code\": \"LSOACode\"})\n",
    "\n",
    "df_burg_raw = df_burg_raw.merge(\n",
    "    onspd, \n",
    "    on=\"LSOACode\", \n",
    "    how=\"left\"\n",
    ")\n",
    "\n",
    "print(df_burg_raw[[\"LSOACode\", \"BoroughCode\"]].drop_duplicates().head())"
   ]
  },
  {
   "cell_type": "code",
   "execution_count": null,
   "id": "a166d9c9",
   "metadata": {},
   "outputs": [],
   "source": [
    "df_burg_borough = (\n",
    "    df_burg_raw[df_burg_raw[\"Crime type\"]==\"Burglary\"]\n",
    "    .assign(Year = lambda d: d[\"Month\"].dt.year)\n",
    "    .groupby([\"BoroughCode\",\"Year\"])\n",
    "    .size()\n",
    "    .reset_index(name=\"BurglaryCount\")\n",
    ")\n",
    "\n",
    "df_burg_borough.head()"
   ]
  },
  {
   "cell_type": "code",
   "execution_count": null,
   "id": "38cec8e5",
   "metadata": {},
   "outputs": [],
   "source": [
    "df_pp[\"Postcode_clean\"] = (\n",
    "    df_pp[\"Postcode\"]\n",
    "    .str.replace(r\"\\s+\", \"\", regex=True)\n",
    "    .str.upper()\n",
    ")\n",
    "df_pp = df_pp.merge(onspd, on=\"Postcode_clean\", how=\"left\")\n",
    "df_pp_borough = (\n",
    "    df_pp\n",
    "    .groupby([\"Borough\",\"Year\"])\n",
    "    .agg(\n",
    "        MedianPrice   = (\"MedianPrice\",\"median\"),\n",
    "        NTransactions = (\"NTransactions\",\"sum\")\n",
    "    )\n",
    "    .reset_index()\n",
    ")\n"
   ]
  }
 ],
 "metadata": {
  "kernelspec": {
   "display_name": "py311",
   "language": "python",
   "name": "python3"
  },
  "language_info": {
   "codemirror_mode": {
    "name": "ipython",
    "version": 3
   },
   "file_extension": ".py",
   "mimetype": "text/x-python",
   "name": "python",
   "nbconvert_exporter": "python",
   "pygments_lexer": "ipython3",
   "version": "3.11.0"
  }
 },
 "nbformat": 4,
 "nbformat_minor": 5
}
